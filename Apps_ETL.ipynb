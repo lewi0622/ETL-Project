{
 "cells": [
  {
   "cell_type": "code",
   "execution_count": null,
   "metadata": {},
   "outputs": [],
   "source": [
    "import pandas as pd\n",
    "from config import username, password\n",
    "from sqlalchemy import create_engine"
   ]
  },
  {
   "cell_type": "markdown",
   "metadata": {},
   "source": [
    "## Import Google csv with selective columns"
   ]
  },
  {
   "cell_type": "code",
   "execution_count": null,
   "metadata": {},
   "outputs": [],
   "source": [
    "csv_path = r'Resources/googleplaystore.csv'\n",
    "google_columns = ['App', 'Category', 'Rating', 'Reviews', 'Price']\n",
    "google_df = pd.read_csv(csv_path, usecols=google_columns)\n",
    "\n",
    "# to avoid issues with inserting datat into pg, all column names are lowercase\n",
    "google_df.columns = [col.lower() for col in google_columns]\n",
    "\n",
    "# remove $ from price to align formatting\n",
    "google_df.price = google_df.price.str.replace('$', '', regex=False)\n",
    "\n",
    "# convert rating, reviews, and price to numeric type\n",
    "google_df.rating = pd.to_numeric(google_df.rating, errors='coerce')\n",
    "google_df.reviews = pd.to_numeric(google_df.reviews, errors='coerce')\n",
    "google_df.price = pd.to_numeric(google_df.price, errors='coerce')\n",
    "\n",
    "# drop na rows\n",
    "google_df.dropna(inplace=True)\n",
    "\n",
    "google_df.head()"
   ]
  },
  {
   "cell_type": "markdown",
   "metadata": {},
   "source": [
    "## Import Apple csv with selective columns"
   ]
  },
  {
   "cell_type": "code",
   "execution_count": null,
   "metadata": {},
   "outputs": [],
   "source": [
    "csv_path = r'Resources/AppleStore.csv'\n",
    "apple_columns = ['track_name', 'prime_genre', 'user_rating', 'rating_count_tot', 'price' ]\n",
    "apple_df = pd.read_csv(csv_path, usecols=apple_columns)[apple_columns]\n",
    "\n",
    "# Use google dataset naming conventions for the columns\n",
    "# to avoid issues with inserting datat into pg, all column names are lowercase\n",
    "apple_df.columns = [col.lower() for col in google_columns]\n",
    "\n",
    "# make Category upper to align formatting\n",
    "apple_df.category = apple_df.category.str.upper()\n",
    "\n",
    "# convert rating, reviews, and price to numeric type\n",
    "apple_df.rating = pd.to_numeric(apple_df.rating, errors='coerce')\n",
    "apple_df.reviews = pd.to_numeric(apple_df.reviews, errors='coerce')\n",
    "apple_df.price = pd.to_numeric(apple_df.price, errors='coerce')\n",
    "\n",
    "# drop na rows\n",
    "apple_df.dropna(inplace=True)\n",
    "\n",
    "apple_df.head()"
   ]
  },
  {
   "cell_type": "markdown",
   "metadata": {},
   "source": [
    "## Set up connection to database"
   ]
  },
  {
   "cell_type": "code",
   "execution_count": null,
   "metadata": {},
   "outputs": [],
   "source": [
    "# connect to db\n",
    "db = 'Apps_ETL_db'\n",
    "port = '5432'\n",
    "rds_connection_string = f\"{username}:{password}@localhost:{port}/{db}\"\n",
    "engine = create_engine(f'postgresql://{rds_connection_string}')"
   ]
  },
  {
   "cell_type": "markdown",
   "metadata": {},
   "source": [
    "## Write Data to database"
   ]
  },
  {
   "cell_type": "code",
   "execution_count": null,
   "metadata": {},
   "outputs": [],
   "source": [
    "google_df.to_sql(name='google_apps', con=engine, if_exists='append', index=False)\n",
    "apple_df.to_sql(name='apple_apps', con=engine, if_exists='append', index=False)"
   ]
  }
 ],
 "metadata": {
  "kernelspec": {
   "display_name": "Python 3",
   "language": "python",
   "name": "python3"
  },
  "language_info": {
   "codemirror_mode": {
    "name": "ipython",
    "version": 3
   },
   "file_extension": ".py",
   "mimetype": "text/x-python",
   "name": "python",
   "nbconvert_exporter": "python",
   "pygments_lexer": "ipython3",
   "version": "3.6.10"
  }
 },
 "nbformat": 4,
 "nbformat_minor": 4
}
